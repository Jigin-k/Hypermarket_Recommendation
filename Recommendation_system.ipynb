{
 "cells": [
  {
   "cell_type": "code",
   "execution_count": 6,
   "metadata": {},
   "outputs": [],
   "source": [
    "import pandas as pd\n",
    "from sklearn.feature_extraction.text import TfidfVectorizer\n",
    "from sklearn.metrics.pairwise import linear_kernel\n",
    "import re\n",
    "from nltk.corpus import stopwords\n",
    "# Sample data (replace this with your own DataFrame)\n",
    "data = pd.read_csv('C:\\@@@\\deep learning\\Grocery_Recommendation\\BigBasket Products.csv')\n",
    "\n",
    "\n",
    "# Clean and preprocess the text data\n",
    "\n",
    "def clean_text(text):\n",
    "    # Convert to lowercase\n",
    "    text = str(text).lower()\n",
    "    # Remove special characters\n",
    "    text = re.sub(r'[^a-zA-Z0-9\\s]', '', text)\n",
    "    # Remove extra whitespaces\n",
    "    text = ' '.join(text.split())\n",
    "    # Remove stopwords\n",
    "    stop_words = set(stopwords.words('english'))\n",
    "    words = text.split()\n",
    "    words = [word for word in words if word not in stop_words]\n",
    "    # Join the words back into a string\n",
    "    text = ' '.join(words)\n",
    "    \n",
    "    return text\n",
    "\n",
    "data['clean_description'] = data['description'].apply(clean_text)\n",
    "\n",
    "# TF-IDF Vectorization\n",
    "tfidf_vectorizer = TfidfVectorizer(stop_words='english')\n",
    "tfidf_matrix = tfidf_vectorizer.fit_transform(df['clean_description'])\n",
    "\n",
    "# Calculate cosine similarity\n",
    "cosine_sim = linear_kernel(tfidf_matrix, tfidf_matrix)\n",
    "\n",
    "# Function to get recommendations\n",
    "def get_recommendations(product_name, cosine_sim=cosine_sim):\n",
    "    idx = data[data['product'] == product_name].index[0]\n",
    "    sim_scores = list(enumerate(cosine_sim[idx]))\n",
    "    sim_scores = sorted(sim_scores, key=lambda x: x[1], reverse=True)\n",
    "    sim_scores = sim_scores[1:6]  # Get top 5 similar products\n",
    "    product_indices = [i[0] for i in sim_scores]\n",
    "    return data['product'].iloc[product_indices]\n",
    "\n"
   ]
  },
  {
   "cell_type": "code",
   "execution_count": 8,
   "metadata": {},
   "outputs": [
    {
     "name": "stdout",
     "output_type": "stream",
     "text": [
      "830     Steel Storage/Lunch Container - No.14, Blue, K...\n",
      "847     Steel Storage/Lunch Container - No.21, Pink, K...\n",
      "2199    Steel Storage/Lunch Container - No.31, Blue, K...\n",
      "3178    Steel Storage/Lunch Container - No.41, Pink, K...\n",
      "4133    Steel Storage/Lunch Container - No.22, Grey, K...\n",
      "Name: product, dtype: object\n"
     ]
    }
   ],
   "source": [
    "\n",
    "recommendations = get_recommendations('Steel Storage/Lunch Container- No.1, Blue, Klip It')\n",
    "\n",
    "print(recommendations)"
   ]
  },
  {
   "cell_type": "code",
   "execution_count": null,
   "metadata": {},
   "outputs": [],
   "source": []
  }
 ],
 "metadata": {
  "kernelspec": {
   "display_name": "Python 3",
   "language": "python",
   "name": "python3"
  },
  "language_info": {
   "codemirror_mode": {
    "name": "ipython",
    "version": 3
   },
   "file_extension": ".py",
   "mimetype": "text/x-python",
   "name": "python",
   "nbconvert_exporter": "python",
   "pygments_lexer": "ipython3",
   "version": "3.11.2"
  }
 },
 "nbformat": 4,
 "nbformat_minor": 2
}
